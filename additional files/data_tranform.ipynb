{
 "cells": [
  {
   "cell_type": "code",
   "execution_count": 1,
   "id": "4b271412",
   "metadata": {},
   "outputs": [],
   "source": [
    "import torchvision.transforms as transforms \n",
    "import numpy as np \n",
    "import cv2 \n",
    "import os \n",
    "from tqdm import tqdm\n",
    "from deepface import DeepFace "
   ]
  },
  {
   "cell_type": "code",
   "execution_count": 9,
   "id": "2b5e433b",
   "metadata": {},
   "outputs": [
    {
     "name": "stderr",
     "output_type": "stream",
     "text": [
      "Cheking diretory photos:   0%|          | 0/13 [00:00<?, ?it/s]"
     ]
    },
    {
     "name": "stderr",
     "output_type": "stream",
     "text": [
      "Cheking diretory photos: 100%|██████████| 13/13 [00:26<00:00,  2.03s/it]\n"
     ]
    }
   ],
   "source": [
    "def get_photos(src_folder_path):\n",
    "    photos_arr = []\n",
    "    for filename in os.listdir(src_folder_path):\n",
    "        if filename.endswith(('.jpg', '.jpeg', '.png', '.JPG')):\n",
    "            photos_arr.append(filename)\n",
    "    return photos_arr\n",
    "\n",
    "\n",
    "def transform_dataset(scr_directory, dest_directory, db_directory):\n",
    "    transform = transforms.Compose([\n",
    "        transforms.ToTensor(),\n",
    "        transforms.Resize((224, 224)),\n",
    "    ])\n",
    "\n",
    "    if not os.path.exists(dest_directory):\n",
    "        os.makedirs(dest_directory)\n",
    "    if not os.path.exists(db_directory):\n",
    "        os.makedirs(db_directory)\n",
    "\n",
    "    for foldname in tqdm(os.listdir(scr_directory), desc=f'Cheking diretory {scr_directory}'):\n",
    "        src_folder_path = os.path.join(scr_directory, foldname)\n",
    "        \n",
    "        if os.path.isdir(src_folder_path):\n",
    "            photos_arr = get_photos(src_folder_path)\n",
    "            np.random.shuffle(photos_arr)\n",
    "            for i, filename in enumerate(photos_arr):\n",
    "                src_image_path = os.path.join(src_folder_path, filename)\n",
    "                dest_image_path = os.path.join(dest_directory, foldname + filename)\n",
    "                db_image_path = os.path.join(db_directory, foldname + filename)\n",
    "                try:\n",
    "                    face_obj = DeepFace.extract_faces(img_path=src_image_path, detector_backend='yolov8')\n",
    "                    face_image = face_obj[0]['face']\n",
    "                    rgb_face_image = (face_image * 255).astype(np.uint8)\n",
    "                    bgr_face_image = cv2.cvtColor(rgb_face_image, cv2.COLOR_RGB2BGR)\n",
    "                    bgr_face_image = (transform(bgr_face_image).permute(1, 2, 0).numpy() * 255).astype(np.uint8)\n",
    "                    # if i < len(photos_arr) // 2:\n",
    "                    if i < 1: # temporarry solution\n",
    "                        cv2.imwrite(dest_image_path, bgr_face_image)\n",
    "                    else:\n",
    "                        cv2.imwrite(db_image_path, bgr_face_image)\n",
    "                except Exception as e:\n",
    "                    print(f'Error transforming data {src_image_path}: {e}')\n",
    "\n",
    "src_directory_path = 'photos'\n",
    "dest_directory_path = 'photos_transformed'\n",
    "db_directory_path = 'photos_db'\n",
    "\n",
    "transform_dataset(src_directory_path, dest_directory_path, db_directory_path)"
   ]
  },
  {
   "cell_type": "code",
   "execution_count": null,
   "id": "f3475a9b",
   "metadata": {},
   "outputs": [],
   "source": [
    "def check_prediction(path1, path2):\n",
    "    filename1 = path1.split('.')[0][:-1]\n",
    "\n",
    "    filename2 = path2.split('/')[-1]\n",
    "    filename2 = filename2.split('.')[0][:-1]\n",
    "    if filename1 == filename2:\n",
    "        return True\n",
    "    else:\n",
    "        return False\n",
    "\n",
    "db_path = 'photos_db'\n",
    "scr_directory = 'photos_transformed'\n",
    "\n",
    "for filename in tqdm(os.listdir(scr_directory), desc=f'Cheking images'):\n",
    "    if filename.endswith(('.jpg', '.jpeg', '.png', '.JPG')):\n",
    "        src_image_path = os.path.join(scr_directory, filename)\n",
    "        try:\n",
    "            finding_res = DeepFace.find(src_image_path, db_path=db_path, silent=True, threshold=0.7)\n",
    "            print(f'Trying to find: {src_image_path}')\n",
    "            print('Found:')\n",
    "            try:\n",
    "                print(finding_res[0][['identity', 'distance']])\n",
    "                if check_prediction(filename, finding_res[0]['identity'][0]):\n",
    "                    print('✅')\n",
    "                else:\n",
    "                    print('❌ mistake')\n",
    "            except Exception as e:\n",
    "                print('❌ nothing found')\n",
    "\n",
    "            print('-' * 40)\n",
    "        except Exception as e:\n",
    "            print(f'Exception occured: {e}')\n",
    "            print('-' * 40)"
   ]
  },
  {
   "cell_type": "code",
   "execution_count": null,
   "id": "01b4fb0f",
   "metadata": {},
   "outputs": [],
   "source": []
  },
  {
   "cell_type": "code",
   "execution_count": null,
   "id": "7b14574a",
   "metadata": {},
   "outputs": [],
   "source": []
  }
 ],
 "metadata": {
  "kernelspec": {
   "display_name": "Python 3",
   "language": "python",
   "name": "python3"
  },
  "language_info": {
   "codemirror_mode": {
    "name": "ipython",
    "version": 3
   },
   "file_extension": ".py",
   "mimetype": "text/x-python",
   "name": "python",
   "nbconvert_exporter": "python",
   "pygments_lexer": "ipython3",
   "version": "3.11.4"
  }
 },
 "nbformat": 4,
 "nbformat_minor": 5
}
